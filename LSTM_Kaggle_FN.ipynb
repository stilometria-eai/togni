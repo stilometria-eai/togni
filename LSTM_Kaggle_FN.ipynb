{
  "cells": [
    {
      "cell_type": "markdown",
      "metadata": {
        "id": "view-in-github",
        "colab_type": "text"
      },
      "source": [
        "<a href=\"https://colab.research.google.com/github/stilometria-eai/togni/blob/main/LSTM_Kaggle_FN.ipynb\" target=\"_parent\"><img src=\"https://colab.research.google.com/assets/colab-badge.svg\" alt=\"Open In Colab\"/></a>"
      ]
    },
    {
      "cell_type": "markdown",
      "id": "8567045d",
      "metadata": {
        "id": "8567045d"
      },
      "source": [
        "Originale:\n",
        "https://www.kaggle.com/jerifate/fake-news-basic-work-tensorflow-with-bert/notebook?scriptVersionId=64719878&cellId=4"
      ]
    },
    {
      "cell_type": "code",
      "execution_count": null,
      "id": "5432976e",
      "metadata": {
        "scrolled": true,
        "id": "5432976e",
        "outputId": "075763a3-d7a5-4b3b-a34a-fff31fe46709"
      },
      "outputs": [
        {
          "name": "stderr",
          "output_type": "stream",
          "text": [
            "[nltk_data] Downloading package stopwords to\n",
            "[nltk_data]     C:\\Users\\LADM3010\\AppData\\Roaming\\nltk_data...\n",
            "[nltk_data]   Package stopwords is already up-to-date!\n",
            "[nltk_data] Downloading package wordnet to\n",
            "[nltk_data]     C:\\Users\\LADM3010\\AppData\\Roaming\\nltk_data...\n",
            "[nltk_data]   Package wordnet is already up-to-date!\n"
          ]
        }
      ],
      "source": [
        "#conda install pandas scikit-learn nltk wordcloud matplotlib seaborn missingno\n",
        "import re\n",
        "import pandas as pd\n",
        "import numpy as np\n",
        "\n",
        "import tensorflow as tf\n",
        "from tensorflow import keras\n",
        "from tensorflow.keras.preprocessing.text import Tokenizer\n",
        "from tensorflow.keras.preprocessing.sequence import pad_sequences\n",
        "from tensorflow.keras.layers import Conv1D, Bidirectional, LSTM, Dense, Input, Dropout\n",
        "from tensorflow.keras.layers import SpatialDropout1D, BatchNormalization\n",
        "from tensorflow.keras.callbacks import ReduceLROnPlateau\n",
        "\n",
        "from sklearn.model_selection import train_test_split\n",
        "\n",
        "import nltk\n",
        "from nltk.corpus import stopwords\n",
        "from nltk.stem import SnowballStemmer\n",
        "from nltk.stem.wordnet import WordNetLemmatizer\n",
        "from wordcloud import WordCloud\n",
        "nltk.download('stopwords')\n",
        "nltk.download('wordnet')\n",
        "\n",
        "import matplotlib.pyplot as plt\n",
        "import seaborn as sns\n",
        "import missingno as msno\n",
        "\n",
        "import transformers\n",
        "from transformers import TFBertModel, BertTokenizer\n",
        "\n",
        "plt.style.use('seaborn')\n",
        "sns.set(font_scale=2.5)\n",
        "%matplotlib inline"
      ]
    },
    {
      "cell_type": "code",
      "execution_count": null,
      "id": "d4f1f995",
      "metadata": {
        "colab": {
          "base_uri": "https://localhost:8080/",
          "height": 204
        },
        "id": "d4f1f995",
        "outputId": "0932420e-00af-440e-eb13-76e5e1ab7b17",
        "scrolled": true
      },
      "outputs": [
        {
          "data": {
            "text/html": [
              "<div>\n",
              "<style scoped>\n",
              "    .dataframe tbody tr th:only-of-type {\n",
              "        vertical-align: middle;\n",
              "    }\n",
              "\n",
              "    .dataframe tbody tr th {\n",
              "        vertical-align: top;\n",
              "    }\n",
              "\n",
              "    .dataframe thead th {\n",
              "        text-align: right;\n",
              "    }\n",
              "</style>\n",
              "<table border=\"1\" class=\"dataframe\">\n",
              "  <thead>\n",
              "    <tr style=\"text-align: right;\">\n",
              "      <th></th>\n",
              "      <th>id</th>\n",
              "      <th>title</th>\n",
              "      <th>author</th>\n",
              "      <th>text</th>\n",
              "      <th>label</th>\n",
              "    </tr>\n",
              "  </thead>\n",
              "  <tbody>\n",
              "    <tr>\n",
              "      <th>0</th>\n",
              "      <td>0</td>\n",
              "      <td>House Dem Aide: We Didn’t Even See Comey’s Let...</td>\n",
              "      <td>Darrell Lucus</td>\n",
              "      <td>House Dem Aide: We Didn’t Even See Comey’s Let...</td>\n",
              "      <td>1</td>\n",
              "    </tr>\n",
              "    <tr>\n",
              "      <th>1</th>\n",
              "      <td>1</td>\n",
              "      <td>FLYNN: Hillary Clinton, Big Woman on Campus - ...</td>\n",
              "      <td>Daniel J. Flynn</td>\n",
              "      <td>Ever get the feeling your life circles the rou...</td>\n",
              "      <td>0</td>\n",
              "    </tr>\n",
              "    <tr>\n",
              "      <th>2</th>\n",
              "      <td>2</td>\n",
              "      <td>Why the Truth Might Get You Fired</td>\n",
              "      <td>Consortiumnews.com</td>\n",
              "      <td>Why the Truth Might Get You Fired October 29, ...</td>\n",
              "      <td>1</td>\n",
              "    </tr>\n",
              "    <tr>\n",
              "      <th>3</th>\n",
              "      <td>3</td>\n",
              "      <td>15 Civilians Killed In Single US Airstrike Hav...</td>\n",
              "      <td>Jessica Purkiss</td>\n",
              "      <td>Videos 15 Civilians Killed In Single US Airstr...</td>\n",
              "      <td>1</td>\n",
              "    </tr>\n",
              "    <tr>\n",
              "      <th>4</th>\n",
              "      <td>4</td>\n",
              "      <td>Iranian woman jailed for fictional unpublished...</td>\n",
              "      <td>Howard Portnoy</td>\n",
              "      <td>Print \\nAn Iranian woman has been sentenced to...</td>\n",
              "      <td>1</td>\n",
              "    </tr>\n",
              "  </tbody>\n",
              "</table>\n",
              "</div>"
            ],
            "text/plain": [
              "   id                                              title              author  \\\n",
              "0   0  House Dem Aide: We Didn’t Even See Comey’s Let...       Darrell Lucus   \n",
              "1   1  FLYNN: Hillary Clinton, Big Woman on Campus - ...     Daniel J. Flynn   \n",
              "2   2                  Why the Truth Might Get You Fired  Consortiumnews.com   \n",
              "3   3  15 Civilians Killed In Single US Airstrike Hav...     Jessica Purkiss   \n",
              "4   4  Iranian woman jailed for fictional unpublished...      Howard Portnoy   \n",
              "\n",
              "                                                text  label  \n",
              "0  House Dem Aide: We Didn’t Even See Comey’s Let...      1  \n",
              "1  Ever get the feeling your life circles the rou...      0  \n",
              "2  Why the Truth Might Get You Fired October 29, ...      1  \n",
              "3  Videos 15 Civilians Killed In Single US Airstr...      1  \n",
              "4  Print \\nAn Iranian woman has been sentenced to...      1  "
            ]
          },
          "execution_count": 2,
          "metadata": {},
          "output_type": "execute_result"
        }
      ],
      "source": [
        "train_df = pd.read_csv('train.csv')\n",
        "test_df = pd.read_csv('test.csv')\n",
        "train_df.head()"
      ]
    },
    {
      "cell_type": "markdown",
      "id": "87985565",
      "metadata": {
        "id": "87985565"
      },
      "source": [
        "# Inspecting data"
      ]
    },
    {
      "cell_type": "code",
      "execution_count": null,
      "id": "de44de15",
      "metadata": {
        "colab": {
          "base_uri": "https://localhost:8080/"
        },
        "id": "de44de15",
        "outputId": "1dce24f2-34b7-41c1-c509-41c5979e8ea9"
      },
      "outputs": [
        {
          "name": "stdout",
          "output_type": "stream",
          "text": [
            "<class 'pandas.core.frame.DataFrame'>\n",
            "RangeIndex: 20800 entries, 0 to 20799\n",
            "Data columns (total 5 columns):\n",
            " #   Column  Non-Null Count  Dtype \n",
            "---  ------  --------------  ----- \n",
            " 0   id      20800 non-null  int64 \n",
            " 1   title   20242 non-null  object\n",
            " 2   author  18843 non-null  object\n",
            " 3   text    20761 non-null  object\n",
            " 4   label   20800 non-null  int64 \n",
            "dtypes: int64(2), object(3)\n",
            "memory usage: 812.6+ KB\n"
          ]
        }
      ],
      "source": [
        "train_df.info()"
      ]
    },
    {
      "cell_type": "code",
      "execution_count": null,
      "id": "bfe94d40",
      "metadata": {
        "colab": {
          "base_uri": "https://localhost:8080/",
          "height": 297
        },
        "id": "bfe94d40",
        "outputId": "4b89433c-687a-4f15-df56-9bf24496c5b2"
      },
      "outputs": [
        {
          "data": {
            "text/html": [
              "<div>\n",
              "<style scoped>\n",
              "    .dataframe tbody tr th:only-of-type {\n",
              "        vertical-align: middle;\n",
              "    }\n",
              "\n",
              "    .dataframe tbody tr th {\n",
              "        vertical-align: top;\n",
              "    }\n",
              "\n",
              "    .dataframe thead th {\n",
              "        text-align: right;\n",
              "    }\n",
              "</style>\n",
              "<table border=\"1\" class=\"dataframe\">\n",
              "  <thead>\n",
              "    <tr style=\"text-align: right;\">\n",
              "      <th></th>\n",
              "      <th>id</th>\n",
              "      <th>label</th>\n",
              "    </tr>\n",
              "  </thead>\n",
              "  <tbody>\n",
              "    <tr>\n",
              "      <th>count</th>\n",
              "      <td>20800.000000</td>\n",
              "      <td>20800.000000</td>\n",
              "    </tr>\n",
              "    <tr>\n",
              "      <th>mean</th>\n",
              "      <td>10399.500000</td>\n",
              "      <td>0.500625</td>\n",
              "    </tr>\n",
              "    <tr>\n",
              "      <th>std</th>\n",
              "      <td>6004.587135</td>\n",
              "      <td>0.500012</td>\n",
              "    </tr>\n",
              "    <tr>\n",
              "      <th>min</th>\n",
              "      <td>0.000000</td>\n",
              "      <td>0.000000</td>\n",
              "    </tr>\n",
              "    <tr>\n",
              "      <th>25%</th>\n",
              "      <td>5199.750000</td>\n",
              "      <td>0.000000</td>\n",
              "    </tr>\n",
              "    <tr>\n",
              "      <th>50%</th>\n",
              "      <td>10399.500000</td>\n",
              "      <td>1.000000</td>\n",
              "    </tr>\n",
              "    <tr>\n",
              "      <th>75%</th>\n",
              "      <td>15599.250000</td>\n",
              "      <td>1.000000</td>\n",
              "    </tr>\n",
              "    <tr>\n",
              "      <th>max</th>\n",
              "      <td>20799.000000</td>\n",
              "      <td>1.000000</td>\n",
              "    </tr>\n",
              "  </tbody>\n",
              "</table>\n",
              "</div>"
            ],
            "text/plain": [
              "                 id         label\n",
              "count  20800.000000  20800.000000\n",
              "mean   10399.500000      0.500625\n",
              "std     6004.587135      0.500012\n",
              "min        0.000000      0.000000\n",
              "25%     5199.750000      0.000000\n",
              "50%    10399.500000      1.000000\n",
              "75%    15599.250000      1.000000\n",
              "max    20799.000000      1.000000"
            ]
          },
          "execution_count": 4,
          "metadata": {},
          "output_type": "execute_result"
        }
      ],
      "source": [
        "train_df.describe()"
      ]
    },
    {
      "cell_type": "code",
      "execution_count": null,
      "id": "a3e09610",
      "metadata": {
        "colab": {
          "base_uri": "https://localhost:8080/"
        },
        "id": "a3e09610",
        "outputId": "9976843a-b478-48d3-d62c-755ffbd7c5d1"
      },
      "outputs": [
        {
          "name": "stdout",
          "output_type": "stream",
          "text": [
            "[title] House Dem Aide: We Didn’t Even See Comey’s Letter Until Jason Chaffetz Tweeted It\n",
            "[author] Darrell Lucus\n",
            "[text] House Dem Aide: We Didn’t Even See Comey’s Letter Until Jason Chaffetz Tweeted It By Darrell Lucus on October 30, 2016 Subscribe Jason Chaffetz on the stump in American Fork, Utah ( image courtesy Michael Jolley, available under a Creative Commons-BY license) \n",
            "With apologies to Keith Olbermann, there is no doubt who the Worst Person in The World is this week–FBI Director James Comey. But according to a House Democratic aide, it looks like we also know who the second-worst person is as well. It turns out that when Comey sent his now-infamous letter announcing that the FBI was looking into emails that may be related to Hillary Clinton’s email server, the ranking Democrats on the relevant committees didn’t hear about it from Comey. They found out via a tweet from one of the Republican committee chairmen. \n",
            "As we now know, Comey notified the Republican chairmen and Democratic ranking members of the House Intelligence, Judiciary, and Oversight committees that his agency was reviewing emails it had recently discovered in order to see if they contained classified information. Not long after this letter went out, Oversight Committee Chairman Jason Chaffetz set the political world ablaze with this tweet. FBI Dir just informed me, \"The FBI has learned of the existence of emails that appear to be pertinent to the investigation.\" Case reopened \n",
            "— Jason Chaffetz (@jasoninthehouse) October 28, 2016 \n",
            "Of course, we now know that this was not the case . Comey was actually saying that it was reviewing the emails in light of “an unrelated case”–which we now know to be Anthony Weiner’s sexting with a teenager. But apparently such little things as facts didn’t matter to Chaffetz. The Utah Republican had already vowed to initiate a raft of investigations if Hillary wins–at least two years’ worth, and possibly an entire term’s worth of them. Apparently Chaffetz thought the FBI was already doing his work for him–resulting in a tweet that briefly roiled the nation before cooler heads realized it was a dud. \n",
            "But according to a senior House Democratic aide, misreading that letter may have been the least of Chaffetz’ sins. That aide told Shareblue that his boss and other Democrats didn’t even know about Comey’s letter at the time–and only found out when they checked Twitter. “Democratic Ranking Members on the relevant committees didn’t receive Comey’s letter until after the Republican Chairmen. In fact, the Democratic Ranking Members didn’ receive it until after the Chairman of the Oversight and Government Reform Committee, Jason Chaffetz, tweeted it out and made it public.” \n",
            "So let’s see if we’ve got this right. The FBI director tells Chaffetz and other GOP committee chairmen about a major development in a potentially politically explosive investigation, and neither Chaffetz nor his other colleagues had the courtesy to let their Democratic counterparts know about it. Instead, according to this aide, he made them find out about it on Twitter. \n",
            "There has already been talk on Daily Kos that Comey himself provided advance notice of this letter to Chaffetz and other Republicans, giving them time to turn on the spin machine. That may make for good theater, but there is nothing so far that even suggests this is the case. After all, there is nothing so far that suggests that Comey was anything other than grossly incompetent and tone-deaf. \n",
            "What it does suggest, however, is that Chaffetz is acting in a way that makes Dan Burton and Darrell Issa look like models of responsibility and bipartisanship. He didn’t even have the decency to notify ranking member Elijah Cummings about something this explosive. If that doesn’t trample on basic standards of fairness, I don’t know what does. \n",
            "Granted, it’s not likely that Chaffetz will have to answer for this. He sits in a ridiculously Republican district anchored in Provo and Orem; it has a Cook Partisan Voting Index of R+25, and gave Mitt Romney a punishing 78 percent of the vote in 2012. Moreover, the Republican House leadership has given its full support to Chaffetz’ planned fishing expedition. But that doesn’t mean we can’t turn the hot lights on him. After all, he is a textbook example of what the House has become under Republican control. And he is also the Second Worst Person in the World. About Darrell Lucus \n",
            "Darrell is a 30-something graduate of the University of North Carolina who considers himself a journalist of the old school. An attempt to turn him into a member of the religious right in college only succeeded in turning him into the religious right's worst nightmare--a charismatic Christian who is an unapologetic liberal. His desire to stand up for those who have been scared into silence only increased when he survived an abusive three-year marriage. You may know him on Daily Kos as Christian Dem in NC . Follow him on Twitter @DarrellLucus or connect with him on Facebook . Click here to buy Darrell a Mello Yello. Connect\n"
          ]
        }
      ],
      "source": [
        "print(\"[title]\",train_df['title'][0])\n",
        "print(\"[author]\",train_df['author'][0])\n",
        "print(\"[text]\",train_df['text'][0])"
      ]
    },
    {
      "cell_type": "markdown",
      "id": "c30db4b4",
      "metadata": {
        "id": "c30db4b4"
      },
      "source": [
        "# Exploratory Data Analysis(EDA) with Visualization [Before Preprocessing]\n",
        "\n",
        "\n",
        "*   Label Percent\n",
        "*   Text length / Word length per Label Percent\n",
        "\n"
      ]
    },
    {
      "cell_type": "code",
      "execution_count": null,
      "id": "07554662",
      "metadata": {
        "colab": {
          "base_uri": "https://localhost:8080/",
          "height": 514
        },
        "id": "07554662",
        "outputId": "e00b6594-5690-4dde-d705-257c3a1843c1"
      },
      "outputs": [
        {
          "name": "stderr",
          "output_type": "stream",
          "text": [
            "C:\\Users\\LADM3010\\anaconda3\\envs\\tf\\lib\\site-packages\\seaborn\\_decorators.py:36: FutureWarning: Pass the following variable as a keyword arg: x. From version 0.12, the only valid positional argument will be `data`, and passing other arguments without an explicit keyword will result in an error or misinterpretation.\n",
            "  warnings.warn(\n"
          ]
        },
        {
          "data": {
            "image/png": "[encoded data removed]",
            "text/plain": [
              "<Figure size 1008x432 with 2 Axes>"
            ]
          },
          "metadata": {
            "needs_background": "light"
          },
          "output_type": "display_data"
        }
      ],
      "source": [
        "f,ax = plt.subplots(1,2,figsize=(14,6))\n",
        "train_df['label'].value_counts().plot.pie(explode=[0, 0.1],autopct='%1.1f%%', ax=ax[0], shadow=True)\n",
        "ax[0].set_title('Pie plot - Label')\n",
        "ax[0].set_ylabel('')\n",
        "sns.countplot('label', data = train_df, ax=ax[1])\n",
        "ax[1].set_title('Count plot - Label')\n",
        "plt.show()"
      ]
    },
    {
      "cell_type": "code",
      "execution_count": null,
      "id": "f93ae97d",
      "metadata": {
        "id": "f93ae97d"
      },
      "outputs": [],
      "source": [
        "def get_length_alphabets(text):\n",
        "    text = str(text)\n",
        "    return len(text)"
      ]
    },
    {
      "cell_type": "code",
      "execution_count": null,
      "id": "ab2a73cc",
      "metadata": {
        "id": "ab2a73cc"
      },
      "outputs": [],
      "source": [
        "def get_length_words(text):\n",
        "    text = str(text)\n",
        "    return len(text.split(' '))"
      ]
    },
    {
      "cell_type": "code",
      "execution_count": null,
      "id": "01f1c4f6",
      "metadata": {
        "colab": {
          "base_uri": "https://localhost:8080/",
          "height": 204
        },
        "id": "01f1c4f6",
        "outputId": "e9dec7a6-2aea-44e8-b7a6-753c315f4a93"
      },
      "outputs": [
        {
          "data": {
            "text/html": [
              "<div>\n",
              "<style scoped>\n",
              "    .dataframe tbody tr th:only-of-type {\n",
              "        vertical-align: middle;\n",
              "    }\n",
              "\n",
              "    .dataframe tbody tr th {\n",
              "        vertical-align: top;\n",
              "    }\n",
              "\n",
              "    .dataframe thead th {\n",
              "        text-align: right;\n",
              "    }\n",
              "</style>\n",
              "<table border=\"1\" class=\"dataframe\">\n",
              "  <thead>\n",
              "    <tr style=\"text-align: right;\">\n",
              "      <th></th>\n",
              "      <th>id</th>\n",
              "      <th>title</th>\n",
              "      <th>author</th>\n",
              "      <th>text</th>\n",
              "      <th>label</th>\n",
              "      <th>length_alphabets</th>\n",
              "      <th>length_words</th>\n",
              "    </tr>\n",
              "  </thead>\n",
              "  <tbody>\n",
              "    <tr>\n",
              "      <th>0</th>\n",
              "      <td>0</td>\n",
              "      <td>House Dem Aide: We Didn’t Even See Comey’s Let...</td>\n",
              "      <td>Darrell Lucus</td>\n",
              "      <td>House Dem Aide: We Didn’t Even See Comey’s Let...</td>\n",
              "      <td>1</td>\n",
              "      <td>4930</td>\n",
              "      <td>820</td>\n",
              "    </tr>\n",
              "    <tr>\n",
              "      <th>1</th>\n",
              "      <td>1</td>\n",
              "      <td>FLYNN: Hillary Clinton, Big Woman on Campus - ...</td>\n",
              "      <td>Daniel J. Flynn</td>\n",
              "      <td>Ever get the feeling your life circles the rou...</td>\n",
              "      <td>0</td>\n",
              "      <td>4160</td>\n",
              "      <td>727</td>\n",
              "    </tr>\n",
              "    <tr>\n",
              "      <th>2</th>\n",
              "      <td>2</td>\n",
              "      <td>Why the Truth Might Get You Fired</td>\n",
              "      <td>Consortiumnews.com</td>\n",
              "      <td>Why the Truth Might Get You Fired October 29, ...</td>\n",
              "      <td>1</td>\n",
              "      <td>7692</td>\n",
              "      <td>1266</td>\n",
              "    </tr>\n",
              "    <tr>\n",
              "      <th>3</th>\n",
              "      <td>3</td>\n",
              "      <td>15 Civilians Killed In Single US Airstrike Hav...</td>\n",
              "      <td>Jessica Purkiss</td>\n",
              "      <td>Videos 15 Civilians Killed In Single US Airstr...</td>\n",
              "      <td>1</td>\n",
              "      <td>3237</td>\n",
              "      <td>559</td>\n",
              "    </tr>\n",
              "    <tr>\n",
              "      <th>4</th>\n",
              "      <td>4</td>\n",
              "      <td>Iranian woman jailed for fictional unpublished...</td>\n",
              "      <td>Howard Portnoy</td>\n",
              "      <td>Print \\nAn Iranian woman has been sentenced to...</td>\n",
              "      <td>1</td>\n",
              "      <td>938</td>\n",
              "      <td>154</td>\n",
              "    </tr>\n",
              "  </tbody>\n",
              "</table>\n",
              "</div>"
            ],
            "text/plain": [
              "   id                                              title              author  \\\n",
              "0   0  House Dem Aide: We Didn’t Even See Comey’s Let...       Darrell Lucus   \n",
              "1   1  FLYNN: Hillary Clinton, Big Woman on Campus - ...     Daniel J. Flynn   \n",
              "2   2                  Why the Truth Might Get You Fired  Consortiumnews.com   \n",
              "3   3  15 Civilians Killed In Single US Airstrike Hav...     Jessica Purkiss   \n",
              "4   4  Iranian woman jailed for fictional unpublished...      Howard Portnoy   \n",
              "\n",
              "                                                text  label  length_alphabets  \\\n",
              "0  House Dem Aide: We Didn’t Even See Comey’s Let...      1              4930   \n",
              "1  Ever get the feeling your life circles the rou...      0              4160   \n",
              "2  Why the Truth Might Get You Fired October 29, ...      1              7692   \n",
              "3  Videos 15 Civilians Killed In Single US Airstr...      1              3237   \n",
              "4  Print \\nAn Iranian woman has been sentenced to...      1               938   \n",
              "\n",
              "   length_words  \n",
              "0           820  \n",
              "1           727  \n",
              "2          1266  \n",
              "3           559  \n",
              "4           154  "
            ]
          },
          "execution_count": 9,
          "metadata": {},
          "output_type": "execute_result"
        }
      ],
      "source": [
        "train_df['length_alphabets'] = train_df['text'].apply(get_length_alphabets)\n",
        "train_df['length_words'] = train_df['text'].apply(get_length_words)\n",
        "train_df.head()"
      ]
    },
    {
      "cell_type": "code",
      "execution_count": null,
      "id": "cbc4a7d7",
      "metadata": {
        "colab": {
          "base_uri": "https://localhost:8080/",
          "height": 729
        },
        "id": "cbc4a7d7",
        "outputId": "1cbcebad-84e0-4b80-df69-91a9d9ba9da1"
      },
      "outputs": [
        {
          "data": {
            "image/png": "[encoded data removed]",
            "text/plain": [
              "<Figure size 1080x720 with 2 Axes>"
            ]
          },
          "metadata": {
            "needs_background": "light"
          },
          "output_type": "display_data"
        }
      ],
      "source": [
        "f, ax = plt.subplots(2,1,figsize=(15,10))\n",
        "\n",
        "ax[0].set_title('Texts per alphabets length')\n",
        "ax[0].hist(train_df[train_df['label'] == 0]['length_alphabets'], alpha = 0.4, bins=150, label = 'Real')\n",
        "ax[0].hist(train_df[train_df['label'] == 1]['length_alphabets'], alpha = 0.4, bins=150, label = 'Not')\n",
        "ax[0].set_xlabel('length')\n",
        "ax[0].set_ylabel('numbers')\n",
        "ax[0].legend(loc='upper right')\n",
        "ax[0].set_xlim(0,60000)\n",
        "ax[0].grid()\n",
        "\n",
        "ax[1].set_title('Texts per words length')\n",
        "ax[1].hist(train_df[train_df['label'] == 0]['length_words'], alpha = 0.4, bins=150, label = 'Real')\n",
        "ax[1].hist(train_df[train_df['label'] == 1]['length_words'], alpha = 0.4, bins=150, label = 'Not')\n",
        "ax[1].set_xlabel('length')\n",
        "ax[1].set_ylabel('numbers')\n",
        "ax[1].legend(loc='upper right')\n",
        "ax[1].set_xlim(0,10000)\n",
        "ax[1].grid()\n",
        "\n",
        "f.tight_layout()\n",
        "plt.show()"
      ]
    },
    {
      "cell_type": "markdown",
      "id": "c38ca659",
      "metadata": {
        "id": "c38ca659"
      },
      "source": [
        "# Preprocessing Data\n",
        "* Null value processing\n",
        "* Drop columns"
      ]
    },
    {
      "cell_type": "code",
      "execution_count": null,
      "id": "fc023b82",
      "metadata": {
        "colab": {
          "base_uri": "https://localhost:8080/",
          "height": 204
        },
        "id": "fc023b82",
        "outputId": "41a090b5-2b78-4355-ff66-7c2de92db586"
      },
      "outputs": [
        {
          "data": {
            "text/html": [
              "<div>\n",
              "<style scoped>\n",
              "    .dataframe tbody tr th:only-of-type {\n",
              "        vertical-align: middle;\n",
              "    }\n",
              "\n",
              "    .dataframe tbody tr th {\n",
              "        vertical-align: top;\n",
              "    }\n",
              "\n",
              "    .dataframe thead th {\n",
              "        text-align: right;\n",
              "    }\n",
              "</style>\n",
              "<table border=\"1\" class=\"dataframe\">\n",
              "  <thead>\n",
              "    <tr style=\"text-align: right;\">\n",
              "      <th></th>\n",
              "      <th>id</th>\n",
              "      <th>title</th>\n",
              "      <th>author</th>\n",
              "      <th>text</th>\n",
              "      <th>label</th>\n",
              "      <th>length_alphabets</th>\n",
              "      <th>length_words</th>\n",
              "    </tr>\n",
              "  </thead>\n",
              "  <tbody>\n",
              "    <tr>\n",
              "      <th>142</th>\n",
              "      <td>142</td>\n",
              "      <td>Gorafi Magazine : Entretien exclusif avec Bara...</td>\n",
              "      <td>NaN</td>\n",
              "      <td>NaN</td>\n",
              "      <td>1</td>\n",
              "      <td>3</td>\n",
              "      <td>1</td>\n",
              "    </tr>\n",
              "    <tr>\n",
              "      <th>573</th>\n",
              "      <td>573</td>\n",
              "      <td>Le top des recherches Google passe en top des ...</td>\n",
              "      <td>NaN</td>\n",
              "      <td>NaN</td>\n",
              "      <td>1</td>\n",
              "      <td>3</td>\n",
              "      <td>1</td>\n",
              "    </tr>\n",
              "    <tr>\n",
              "      <th>1200</th>\n",
              "      <td>1200</td>\n",
              "      <td>La Corée du Nord annonce avoir envoyé un missi...</td>\n",
              "      <td>NaN</td>\n",
              "      <td>NaN</td>\n",
              "      <td>1</td>\n",
              "      <td>3</td>\n",
              "      <td>1</td>\n",
              "    </tr>\n",
              "    <tr>\n",
              "      <th>1911</th>\n",
              "      <td>1911</td>\n",
              "      <td>Grand-Prix du Brésil – Romain Grosjean obtient...</td>\n",
              "      <td>NaN</td>\n",
              "      <td>NaN</td>\n",
              "      <td>1</td>\n",
              "      <td>3</td>\n",
              "      <td>1</td>\n",
              "    </tr>\n",
              "    <tr>\n",
              "      <th>2148</th>\n",
              "      <td>2148</td>\n",
              "      <td>Gorafi Magazine: Barack Obama « Je vous ai déj...</td>\n",
              "      <td>NaN</td>\n",
              "      <td>NaN</td>\n",
              "      <td>1</td>\n",
              "      <td>3</td>\n",
              "      <td>1</td>\n",
              "    </tr>\n",
              "  </tbody>\n",
              "</table>\n",
              "</div>"
            ],
            "text/plain": [
              "        id                                              title author text  \\\n",
              "142    142  Gorafi Magazine : Entretien exclusif avec Bara...    NaN  NaN   \n",
              "573    573  Le top des recherches Google passe en top des ...    NaN  NaN   \n",
              "1200  1200  La Corée du Nord annonce avoir envoyé un missi...    NaN  NaN   \n",
              "1911  1911  Grand-Prix du Brésil – Romain Grosjean obtient...    NaN  NaN   \n",
              "2148  2148  Gorafi Magazine: Barack Obama « Je vous ai déj...    NaN  NaN   \n",
              "\n",
              "      label  length_alphabets  length_words  \n",
              "142       1                 3             1  \n",
              "573       1                 3             1  \n",
              "1200      1                 3             1  \n",
              "1911      1                 3             1  \n",
              "2148      1                 3             1  "
            ]
          },
          "execution_count": 11,
          "metadata": {},
          "output_type": "execute_result"
        }
      ],
      "source": [
        "train_df[train_df['text'].isnull()].head()"
      ]
    },
    {
      "cell_type": "code",
      "execution_count": null,
      "id": "cf158aaf",
      "metadata": {
        "id": "cf158aaf"
      },
      "outputs": [],
      "source": [
        "train_df['text'].fillna(\"\", inplace=True)\n",
        "test_df['text'].fillna(\"\", inplace=True)"
      ]
    },
    {
      "cell_type": "code",
      "execution_count": null,
      "id": "f2afa21c",
      "metadata": {
        "colab": {
          "base_uri": "https://localhost:8080/",
          "height": 204
        },
        "id": "f2afa21c",
        "outputId": "e65b4658-0000-4a96-f258-fcd831d7c4bb"
      },
      "outputs": [
        {
          "data": {
            "text/html": [
              "<div>\n",
              "<style scoped>\n",
              "    .dataframe tbody tr th:only-of-type {\n",
              "        vertical-align: middle;\n",
              "    }\n",
              "\n",
              "    .dataframe tbody tr th {\n",
              "        vertical-align: top;\n",
              "    }\n",
              "\n",
              "    .dataframe thead th {\n",
              "        text-align: right;\n",
              "    }\n",
              "</style>\n",
              "<table border=\"1\" class=\"dataframe\">\n",
              "  <thead>\n",
              "    <tr style=\"text-align: right;\">\n",
              "      <th></th>\n",
              "      <th>id</th>\n",
              "      <th>title</th>\n",
              "      <th>author</th>\n",
              "      <th>text</th>\n",
              "      <th>label</th>\n",
              "      <th>length_alphabets</th>\n",
              "      <th>length_words</th>\n",
              "    </tr>\n",
              "  </thead>\n",
              "  <tbody>\n",
              "    <tr>\n",
              "      <th>6</th>\n",
              "      <td>6</td>\n",
              "      <td>Life: Life Of Luxury: Elton John’s 6 Favorite ...</td>\n",
              "      <td>NaN</td>\n",
              "      <td>Ever wonder how Britain’s most iconic pop pian...</td>\n",
              "      <td>1</td>\n",
              "      <td>2729</td>\n",
              "      <td>489</td>\n",
              "    </tr>\n",
              "    <tr>\n",
              "      <th>8</th>\n",
              "      <td>8</td>\n",
              "      <td>Excerpts From a Draft Script for Donald Trump’...</td>\n",
              "      <td>NaN</td>\n",
              "      <td>Donald J. Trump is scheduled to make a highly ...</td>\n",
              "      <td>0</td>\n",
              "      <td>8177</td>\n",
              "      <td>1452</td>\n",
              "    </tr>\n",
              "    <tr>\n",
              "      <th>20</th>\n",
              "      <td>20</td>\n",
              "      <td>News: Hope For The GOP: A Nude Paul Ryan Has J...</td>\n",
              "      <td>NaN</td>\n",
              "      <td>Email \\nSince Donald Trump entered the electio...</td>\n",
              "      <td>1</td>\n",
              "      <td>2231</td>\n",
              "      <td>377</td>\n",
              "    </tr>\n",
              "    <tr>\n",
              "      <th>23</th>\n",
              "      <td>23</td>\n",
              "      <td>Massachusetts Cop’s Wife Busted for Pinning Fa...</td>\n",
              "      <td>NaN</td>\n",
              "      <td>Massachusetts Cop’s Wife Busted for Pinning Fa...</td>\n",
              "      <td>1</td>\n",
              "      <td>2801</td>\n",
              "      <td>486</td>\n",
              "    </tr>\n",
              "    <tr>\n",
              "      <th>31</th>\n",
              "      <td>31</td>\n",
              "      <td>Israel is Becoming Pivotal to China’s Mid-East...</td>\n",
              "      <td>NaN</td>\n",
              "      <td>Country: Israel While China is silently playin...</td>\n",
              "      <td>1</td>\n",
              "      <td>7050</td>\n",
              "      <td>1146</td>\n",
              "    </tr>\n",
              "  </tbody>\n",
              "</table>\n",
              "</div>"
            ],
            "text/plain": [
              "    id                                              title author  \\\n",
              "6    6  Life: Life Of Luxury: Elton John’s 6 Favorite ...    NaN   \n",
              "8    8  Excerpts From a Draft Script for Donald Trump’...    NaN   \n",
              "20  20  News: Hope For The GOP: A Nude Paul Ryan Has J...    NaN   \n",
              "23  23  Massachusetts Cop’s Wife Busted for Pinning Fa...    NaN   \n",
              "31  31  Israel is Becoming Pivotal to China’s Mid-East...    NaN   \n",
              "\n",
              "                                                 text  label  \\\n",
              "6   Ever wonder how Britain’s most iconic pop pian...      1   \n",
              "8   Donald J. Trump is scheduled to make a highly ...      0   \n",
              "20  Email \\nSince Donald Trump entered the electio...      1   \n",
              "23  Massachusetts Cop’s Wife Busted for Pinning Fa...      1   \n",
              "31  Country: Israel While China is silently playin...      1   \n",
              "\n",
              "    length_alphabets  length_words  \n",
              "6               2729           489  \n",
              "8               8177          1452  \n",
              "20              2231           377  \n",
              "23              2801           486  \n",
              "31              7050          1146  "
            ]
          },
          "execution_count": 13,
          "metadata": {},
          "output_type": "execute_result"
        }
      ],
      "source": [
        "train_df[train_df['author'].isnull()].head()"
      ]
    },
    {
      "cell_type": "code",
      "execution_count": null,
      "id": "4440c3bd",
      "metadata": {
        "id": "4440c3bd"
      },
      "outputs": [],
      "source": [
        "train_df['author'] = train_df['author'].fillna('unknown')\n",
        "test_df['author'] = test_df['author'].fillna('unknown')"
      ]
    },
    {
      "cell_type": "code",
      "execution_count": null,
      "id": "f9ff5354",
      "metadata": {
        "colab": {
          "base_uri": "https://localhost:8080/",
          "height": 204
        },
        "id": "f9ff5354",
        "outputId": "61f5340d-c293-45dd-8c85-e5db25febebe"
      },
      "outputs": [
        {
          "data": {
            "text/html": [
              "<div>\n",
              "<style scoped>\n",
              "    .dataframe tbody tr th:only-of-type {\n",
              "        vertical-align: middle;\n",
              "    }\n",
              "\n",
              "    .dataframe tbody tr th {\n",
              "        vertical-align: top;\n",
              "    }\n",
              "\n",
              "    .dataframe thead th {\n",
              "        text-align: right;\n",
              "    }\n",
              "</style>\n",
              "<table border=\"1\" class=\"dataframe\">\n",
              "  <thead>\n",
              "    <tr style=\"text-align: right;\">\n",
              "      <th></th>\n",
              "      <th>id</th>\n",
              "      <th>title</th>\n",
              "      <th>author</th>\n",
              "      <th>text</th>\n",
              "      <th>label</th>\n",
              "      <th>length_alphabets</th>\n",
              "      <th>length_words</th>\n",
              "    </tr>\n",
              "  </thead>\n",
              "  <tbody>\n",
              "    <tr>\n",
              "      <th>53</th>\n",
              "      <td>53</td>\n",
              "      <td>NaN</td>\n",
              "      <td>Dairy✓ᵀᴿᵁᴹᴾ</td>\n",
              "      <td>Sounds like he has our president pegged. What ...</td>\n",
              "      <td>1</td>\n",
              "      <td>679</td>\n",
              "      <td>131</td>\n",
              "    </tr>\n",
              "    <tr>\n",
              "      <th>120</th>\n",
              "      <td>120</td>\n",
              "      <td>NaN</td>\n",
              "      <td>Anonymous</td>\n",
              "      <td>Same people all the time , i dont know how you...</td>\n",
              "      <td>1</td>\n",
              "      <td>135</td>\n",
              "      <td>16</td>\n",
              "    </tr>\n",
              "    <tr>\n",
              "      <th>124</th>\n",
              "      <td>124</td>\n",
              "      <td>NaN</td>\n",
              "      <td>SeekSearchDestory</td>\n",
              "      <td>You know, outside of any morality arguments, i...</td>\n",
              "      <td>1</td>\n",
              "      <td>533</td>\n",
              "      <td>100</td>\n",
              "    </tr>\n",
              "    <tr>\n",
              "      <th>140</th>\n",
              "      <td>140</td>\n",
              "      <td>NaN</td>\n",
              "      <td>Anonymous</td>\n",
              "      <td>There is a lot more than meets the eye to this...</td>\n",
              "      <td>1</td>\n",
              "      <td>736</td>\n",
              "      <td>120</td>\n",
              "    </tr>\n",
              "    <tr>\n",
              "      <th>196</th>\n",
              "      <td>196</td>\n",
              "      <td>NaN</td>\n",
              "      <td>Raffie</td>\n",
              "      <td>They got the heater turned up on high.</td>\n",
              "      <td>1</td>\n",
              "      <td>38</td>\n",
              "      <td>8</td>\n",
              "    </tr>\n",
              "  </tbody>\n",
              "</table>\n",
              "</div>"
            ],
            "text/plain": [
              "      id title             author  \\\n",
              "53    53   NaN        Dairy✓ᵀᴿᵁᴹᴾ   \n",
              "120  120   NaN          Anonymous   \n",
              "124  124   NaN  SeekSearchDestory   \n",
              "140  140   NaN          Anonymous   \n",
              "196  196   NaN             Raffie   \n",
              "\n",
              "                                                  text  label  \\\n",
              "53   Sounds like he has our president pegged. What ...      1   \n",
              "120  Same people all the time , i dont know how you...      1   \n",
              "124  You know, outside of any morality arguments, i...      1   \n",
              "140  There is a lot more than meets the eye to this...      1   \n",
              "196             They got the heater turned up on high.      1   \n",
              "\n",
              "     length_alphabets  length_words  \n",
              "53                679           131  \n",
              "120               135            16  \n",
              "124               533           100  \n",
              "140               736           120  \n",
              "196                38             8  "
            ]
          },
          "execution_count": 15,
          "metadata": {},
          "output_type": "execute_result"
        }
      ],
      "source": [
        "train_df[train_df['title'].isnull()].head()"
      ]
    },
    {
      "cell_type": "code",
      "execution_count": null,
      "id": "594f54e8",
      "metadata": {
        "colab": {
          "base_uri": "https://localhost:8080/"
        },
        "id": "594f54e8",
        "outputId": "5d2174ec-9a98-46a0-fdd3-cf5ca8e2c063"
      },
      "outputs": [
        {
          "name": "stdout",
          "output_type": "stream",
          "text": [
            "train avg_title_size:  98\n"
          ]
        },
        {
          "name": "stderr",
          "output_type": "stream",
          "text": [
            "C:\\Users\\LADM3010\\AppData\\Local\\Temp/ipykernel_18948/866636886.py:6: SettingWithCopyWarning: \n",
            "A value is trying to be set on a copy of a slice from a DataFrame\n",
            "\n",
            "See the caveats in the documentation: https://pandas.pydata.org/pandas-docs/stable/user_guide/indexing.html#returning-a-view-versus-a-copy\n",
            "  train_df['title_size'][train_nan_index] = 0\n"
          ]
        }
      ],
      "source": [
        "# Get average TRAIN title size\n",
        "train_df['title_size'] = train_df['title'].apply(lambda x: len(str(x)))\n",
        "\n",
        "# If title size == 3(\"NAN\") then change title size = 0\n",
        "train_nan_index = train_df[train_df['title_size']==3].index\n",
        "train_df['title_size'][train_nan_index] = 0 \n",
        "\n",
        "# print(train_df.value_counts(['title_size']).mean())\n",
        "\n",
        "train_avg_title_size = int(train_df.value_counts(['title_size']).mean())\n",
        "print(\"train avg_title_size: \",train_avg_title_size)"
      ]
    },
    {
      "cell_type": "code",
      "execution_count": null,
      "id": "0cb855ac",
      "metadata": {
        "colab": {
          "base_uri": "https://localhost:8080/"
        },
        "id": "0cb855ac",
        "outputId": "52f87cee-fbd7-41be-9489-9cd1eaa808db"
      },
      "outputs": [
        {
          "name": "stdout",
          "output_type": "stream",
          "text": [
            "test avg_title_size:  33\n"
          ]
        },
        {
          "name": "stderr",
          "output_type": "stream",
          "text": [
            "C:\\Users\\LADM3010\\AppData\\Local\\Temp/ipykernel_18948/2254812886.py:6: SettingWithCopyWarning: \n",
            "A value is trying to be set on a copy of a slice from a DataFrame\n",
            "\n",
            "See the caveats in the documentation: https://pandas.pydata.org/pandas-docs/stable/user_guide/indexing.html#returning-a-view-versus-a-copy\n",
            "  test_df['title_size'][test_nan_index] = 0\n"
          ]
        }
      ],
      "source": [
        "# Get average TEST title size\n",
        "test_df['title_size'] = test_df['title'].apply(lambda x: len(str(x)))\n",
        "\n",
        "# If title size == 3(\"NAN\") then change title size = 0\n",
        "test_nan_index = test_df[test_df['title_size']==3].index\n",
        "test_df['title_size'][test_nan_index] = 0 \n",
        "\n",
        "test_avg_title_size = int(test_df.value_counts(['title_size']).mean())\n",
        "print(\"test avg_title_size: \",test_avg_title_size)"
      ]
    },
    {
      "cell_type": "code",
      "execution_count": null,
      "id": "fc84186b",
      "metadata": {
        "colab": {
          "base_uri": "https://localhost:8080/"
        },
        "id": "fc84186b",
        "outputId": "5c91e76b-a51b-4e17-c968-d95b68687091"
      },
      "outputs": [
        {
          "name": "stderr",
          "output_type": "stream",
          "text": [
            "C:\\Users\\LADM3010\\AppData\\Local\\Temp/ipykernel_18948/3426177639.py:2: SettingWithCopyWarning: \n",
            "A value is trying to be set on a copy of a slice from a DataFrame\n",
            "\n",
            "See the caveats in the documentation: https://pandas.pydata.org/pandas-docs/stable/user_guide/indexing.html#returning-a-view-versus-a-copy\n",
            "  train_df['title'][train_nan_index] = train_df['text'][train_nan_index].apply(lambda x: str(x)[:train_avg_title_size])\n",
            "C:\\Users\\LADM3010\\AppData\\Local\\Temp/ipykernel_18948/3426177639.py:4: SettingWithCopyWarning: \n",
            "A value is trying to be set on a copy of a slice from a DataFrame\n",
            "\n",
            "See the caveats in the documentation: https://pandas.pydata.org/pandas-docs/stable/user_guide/indexing.html#returning-a-view-versus-a-copy\n",
            "  test_df['title'][test_nan_index] = test_df['text'][test_nan_index].apply(lambda x: str(x)[:test_avg_title_size])\n"
          ]
        }
      ],
      "source": [
        "#change title \"NAN\" to text[:98]\n",
        "train_df['title'][train_nan_index] = train_df['text'][train_nan_index].apply(lambda x: str(x)[:train_avg_title_size])\n",
        "\n",
        "test_df['title'][test_nan_index] = test_df['text'][test_nan_index].apply(lambda x: str(x)[:test_avg_title_size])"
      ]
    },
    {
      "cell_type": "code",
      "execution_count": null,
      "id": "63e88810",
      "metadata": {
        "colab": {
          "base_uri": "https://localhost:8080/",
          "height": 80
        },
        "id": "63e88810",
        "outputId": "1a0b2a25-fa41-4eea-d558-767931d7db01"
      },
      "outputs": [
        {
          "data": {
            "text/html": [
              "<div>\n",
              "<style scoped>\n",
              "    .dataframe tbody tr th:only-of-type {\n",
              "        vertical-align: middle;\n",
              "    }\n",
              "\n",
              "    .dataframe tbody tr th {\n",
              "        vertical-align: top;\n",
              "    }\n",
              "\n",
              "    .dataframe thead th {\n",
              "        text-align: right;\n",
              "    }\n",
              "</style>\n",
              "<table border=\"1\" class=\"dataframe\">\n",
              "  <thead>\n",
              "    <tr style=\"text-align: right;\">\n",
              "      <th></th>\n",
              "      <th>id</th>\n",
              "      <th>title</th>\n",
              "      <th>author</th>\n",
              "      <th>text</th>\n",
              "      <th>label</th>\n",
              "      <th>length_alphabets</th>\n",
              "      <th>length_words</th>\n",
              "      <th>title_size</th>\n",
              "    </tr>\n",
              "  </thead>\n",
              "  <tbody>\n",
              "    <tr>\n",
              "      <th>120</th>\n",
              "      <td>120</td>\n",
              "      <td>Same people all the time , i dont know how you...</td>\n",
              "      <td>Anonymous</td>\n",
              "      <td>Same people all the time , i dont know how you...</td>\n",
              "      <td>1</td>\n",
              "      <td>135</td>\n",
              "      <td>16</td>\n",
              "      <td>0</td>\n",
              "    </tr>\n",
              "  </tbody>\n",
              "</table>\n",
              "</div>"
            ],
            "text/plain": [
              "      id                                              title     author  \\\n",
              "120  120  Same people all the time , i dont know how you...  Anonymous   \n",
              "\n",
              "                                                  text  label  \\\n",
              "120  Same people all the time , i dont know how you...      1   \n",
              "\n",
              "     length_alphabets  length_words  title_size  \n",
              "120               135            16           0  "
            ]
          },
          "execution_count": 19,
          "metadata": {},
          "output_type": "execute_result"
        }
      ],
      "source": [
        "train_df[train_df['id']==120]"
      ]
    },
    {
      "cell_type": "code",
      "execution_count": null,
      "id": "c47e3631",
      "metadata": {
        "colab": {
          "base_uri": "https://localhost:8080/"
        },
        "id": "c47e3631",
        "outputId": "db455319-3eef-4aa1-a4e4-9cf99445b1f8"
      },
      "outputs": [
        {
          "data": {
            "text/plain": [
              "id                  0\n",
              "title               0\n",
              "author              0\n",
              "text                0\n",
              "label               0\n",
              "length_alphabets    0\n",
              "length_words        0\n",
              "title_size          0\n",
              "dtype: int64"
            ]
          },
          "execution_count": 20,
          "metadata": {},
          "output_type": "execute_result"
        }
      ],
      "source": [
        "train_df.isnull().sum()"
      ]
    },
    {
      "cell_type": "code",
      "execution_count": null,
      "id": "cc8b6bcb",
      "metadata": {
        "id": "cc8b6bcb"
      },
      "outputs": [],
      "source": [
        "train_df.drop(['length_alphabets','length_words','title_size'], axis=1, inplace = True)\n",
        "test_df.drop(['title_size'], axis=1, inplace = True)"
      ]
    },
    {
      "cell_type": "code",
      "execution_count": null,
      "id": "c03e2ebd",
      "metadata": {
        "colab": {
          "base_uri": "https://localhost:8080/",
          "height": 204
        },
        "id": "c03e2ebd",
        "outputId": "0bd8d16f-0bad-4f81-dd3e-22c070bf9ee3"
      },
      "outputs": [
        {
          "data": {
            "text/html": [
              "<div>\n",
              "<style scoped>\n",
              "    .dataframe tbody tr th:only-of-type {\n",
              "        vertical-align: middle;\n",
              "    }\n",
              "\n",
              "    .dataframe tbody tr th {\n",
              "        vertical-align: top;\n",
              "    }\n",
              "\n",
              "    .dataframe thead th {\n",
              "        text-align: right;\n",
              "    }\n",
              "</style>\n",
              "<table border=\"1\" class=\"dataframe\">\n",
              "  <thead>\n",
              "    <tr style=\"text-align: right;\">\n",
              "      <th></th>\n",
              "      <th>id</th>\n",
              "      <th>label</th>\n",
              "    </tr>\n",
              "  </thead>\n",
              "  <tbody>\n",
              "    <tr>\n",
              "      <th>count</th>\n",
              "      <td>20800.000000</td>\n",
              "      <td>20800.000000</td>\n",
              "    </tr>\n",
              "    <tr>\n",
              "      <th>mean</th>\n",
              "      <td>10399.500000</td>\n",
              "      <td>0.500625</td>\n",
              "    </tr>\n",
              "    <tr>\n",
              "      <th>std</th>\n",
              "      <td>6004.587135</td>\n",
              "      <td>0.500012</td>\n",
              "    </tr>\n",
              "    <tr>\n",
              "      <th>min</th>\n",
              "      <td>0.000000</td>\n",
              "      <td>0.000000</td>\n",
              "    </tr>\n",
              "    <tr>\n",
              "      <th>25%</th>\n",
              "      <td>5199.750000</td>\n",
              "      <td>0.000000</td>\n",
              "    </tr>\n",
              "    <tr>\n",
              "      <th>50%</th>\n",
              "      <td>10399.500000</td>\n",
              "      <td>1.000000</td>\n",
              "    </tr>\n",
              "    <tr>\n",
              "      <th>75%</th>\n",
              "      <td>15599.250000</td>\n",
              "      <td>1.000000</td>\n",
              "    </tr>\n",
              "    <tr>\n",
              "      <th>max</th>\n",
              "      <td>20799.000000</td>\n",
              "      <td>1.000000</td>\n",
              "    </tr>\n",
              "  </tbody>\n",
              "</table>\n",
              "</div>"
            ],
            "text/plain": [
              "                 id         label\n",
              "count  20800.000000  20800.000000\n",
              "mean   10399.500000      0.500625\n",
              "std     6004.587135      0.500012\n",
              "min        0.000000      0.000000\n",
              "25%     5199.750000      0.000000\n",
              "50%    10399.500000      1.000000\n",
              "75%    15599.250000      1.000000\n",
              "max    20799.000000      1.000000"
            ]
          },
          "execution_count": 22,
          "metadata": {},
          "output_type": "execute_result"
        }
      ],
      "source": [
        "train_df.head()\n",
        "train_df.describe()"
      ]
    },
    {
      "cell_type": "code",
      "execution_count": null,
      "id": "0597274e",
      "metadata": {
        "colab": {
          "base_uri": "https://localhost:8080/",
          "height": 204
        },
        "id": "0597274e",
        "outputId": "e7577ce8-8340-456e-f43e-81a851f42f76"
      },
      "outputs": [
        {
          "data": {
            "text/html": [
              "<div>\n",
              "<style scoped>\n",
              "    .dataframe tbody tr th:only-of-type {\n",
              "        vertical-align: middle;\n",
              "    }\n",
              "\n",
              "    .dataframe tbody tr th {\n",
              "        vertical-align: top;\n",
              "    }\n",
              "\n",
              "    .dataframe thead th {\n",
              "        text-align: right;\n",
              "    }\n",
              "</style>\n",
              "<table border=\"1\" class=\"dataframe\">\n",
              "  <thead>\n",
              "    <tr style=\"text-align: right;\">\n",
              "      <th></th>\n",
              "      <th>id</th>\n",
              "      <th>title</th>\n",
              "      <th>author</th>\n",
              "      <th>text</th>\n",
              "    </tr>\n",
              "  </thead>\n",
              "  <tbody>\n",
              "    <tr>\n",
              "      <th>0</th>\n",
              "      <td>20800</td>\n",
              "      <td>Specter of Trump Loosens Tongues, if Not Purse...</td>\n",
              "      <td>David Streitfeld</td>\n",
              "      <td>PALO ALTO, Calif.  —   After years of scorning...</td>\n",
              "    </tr>\n",
              "    <tr>\n",
              "      <th>1</th>\n",
              "      <td>20801</td>\n",
              "      <td>Russian warships ready to strike terrorists ne...</td>\n",
              "      <td>unknown</td>\n",
              "      <td>Russian warships ready to strike terrorists ne...</td>\n",
              "    </tr>\n",
              "    <tr>\n",
              "      <th>2</th>\n",
              "      <td>20802</td>\n",
              "      <td>#NoDAPL: Native American Leaders Vow to Stay A...</td>\n",
              "      <td>Common Dreams</td>\n",
              "      <td>Videos #NoDAPL: Native American Leaders Vow to...</td>\n",
              "    </tr>\n",
              "    <tr>\n",
              "      <th>3</th>\n",
              "      <td>20803</td>\n",
              "      <td>Tim Tebow Will Attempt Another Comeback, This ...</td>\n",
              "      <td>Daniel Victor</td>\n",
              "      <td>If at first you don’t succeed, try a different...</td>\n",
              "    </tr>\n",
              "    <tr>\n",
              "      <th>4</th>\n",
              "      <td>20804</td>\n",
              "      <td>Keiser Report: Meme Wars (E995)</td>\n",
              "      <td>Truth Broadcast Network</td>\n",
              "      <td>42 mins ago 1 Views 0 Comments 0 Likes 'For th...</td>\n",
              "    </tr>\n",
              "  </tbody>\n",
              "</table>\n",
              "</div>"
            ],
            "text/plain": [
              "      id                                              title  \\\n",
              "0  20800  Specter of Trump Loosens Tongues, if Not Purse...   \n",
              "1  20801  Russian warships ready to strike terrorists ne...   \n",
              "2  20802  #NoDAPL: Native American Leaders Vow to Stay A...   \n",
              "3  20803  Tim Tebow Will Attempt Another Comeback, This ...   \n",
              "4  20804                    Keiser Report: Meme Wars (E995)   \n",
              "\n",
              "                    author                                               text  \n",
              "0         David Streitfeld  PALO ALTO, Calif.  —   After years of scorning...  \n",
              "1                  unknown  Russian warships ready to strike terrorists ne...  \n",
              "2            Common Dreams  Videos #NoDAPL: Native American Leaders Vow to...  \n",
              "3            Daniel Victor  If at first you don’t succeed, try a different...  \n",
              "4  Truth Broadcast Network  42 mins ago 1 Views 0 Comments 0 Likes 'For th...  "
            ]
          },
          "execution_count": 23,
          "metadata": {},
          "output_type": "execute_result"
        }
      ],
      "source": [
        "test_df.head()"
      ]
    },
    {
      "cell_type": "markdown",
      "id": "ef4df6dc",
      "metadata": {
        "id": "ef4df6dc"
      },
      "source": [
        "# Feature Engineering\n",
        "\n",
        "\n",
        "* Concat \"author\" & \"text\" Columns\n",
        "* Normalization\n",
        "* Plot WordClouds\n",
        "* Words Tokenization\n",
        "* Split Train / Test / Validation Data\n",
        "\n",
        "\n"
      ]
    },
    {
      "cell_type": "code",
      "execution_count": null,
      "id": "41a7ed7c",
      "metadata": {
        "id": "41a7ed7c"
      },
      "outputs": [],
      "source": [
        "train_df['text']= train_df['author'] + \" \" + train_df['text']\n",
        "test_df['text']= test_df['author'] + \" \" + test_df['text']"
      ]
    },
    {
      "cell_type": "code",
      "execution_count": null,
      "id": "ce8fd564",
      "metadata": {
        "id": "ce8fd564"
      },
      "outputs": [],
      "source": [
        "train_df.drop(['id','title','author'], axis=1, inplace=True)\n",
        "test_df.drop(['id','title','author'], axis=1, inplace=True)"
      ]
    },
    {
      "cell_type": "code",
      "execution_count": null,
      "id": "b65ab8bd",
      "metadata": {
        "colab": {
          "base_uri": "https://localhost:8080/",
          "height": 204
        },
        "id": "b65ab8bd",
        "outputId": "7f9ba8d0-8204-4938-b024-babeb4c226c5"
      },
      "outputs": [
        {
          "data": {
            "text/html": [
              "<div>\n",
              "<style scoped>\n",
              "    .dataframe tbody tr th:only-of-type {\n",
              "        vertical-align: middle;\n",
              "    }\n",
              "\n",
              "    .dataframe tbody tr th {\n",
              "        vertical-align: top;\n",
              "    }\n",
              "\n",
              "    .dataframe thead th {\n",
              "        text-align: right;\n",
              "    }\n",
              "</style>\n",
              "<table border=\"1\" class=\"dataframe\">\n",
              "  <thead>\n",
              "    <tr style=\"text-align: right;\">\n",
              "      <th></th>\n",
              "      <th>text</th>\n",
              "      <th>label</th>\n",
              "    </tr>\n",
              "  </thead>\n",
              "  <tbody>\n",
              "    <tr>\n",
              "      <th>0</th>\n",
              "      <td>Darrell Lucus House Dem Aide: We Didn’t Even S...</td>\n",
              "      <td>1</td>\n",
              "    </tr>\n",
              "    <tr>\n",
              "      <th>1</th>\n",
              "      <td>Daniel J. Flynn Ever get the feeling your life...</td>\n",
              "      <td>0</td>\n",
              "    </tr>\n",
              "    <tr>\n",
              "      <th>2</th>\n",
              "      <td>Consortiumnews.com Why the Truth Might Get You...</td>\n",
              "      <td>1</td>\n",
              "    </tr>\n",
              "    <tr>\n",
              "      <th>3</th>\n",
              "      <td>Jessica Purkiss Videos 15 Civilians Killed In ...</td>\n",
              "      <td>1</td>\n",
              "    </tr>\n",
              "    <tr>\n",
              "      <th>4</th>\n",
              "      <td>Howard Portnoy Print \\nAn Iranian woman has be...</td>\n",
              "      <td>1</td>\n",
              "    </tr>\n",
              "  </tbody>\n",
              "</table>\n",
              "</div>"
            ],
            "text/plain": [
              "                                                text  label\n",
              "0  Darrell Lucus House Dem Aide: We Didn’t Even S...      1\n",
              "1  Daniel J. Flynn Ever get the feeling your life...      0\n",
              "2  Consortiumnews.com Why the Truth Might Get You...      1\n",
              "3  Jessica Purkiss Videos 15 Civilians Killed In ...      1\n",
              "4  Howard Portnoy Print \\nAn Iranian woman has be...      1"
            ]
          },
          "execution_count": 26,
          "metadata": {},
          "output_type": "execute_result"
        }
      ],
      "source": [
        "train_df.head()"
      ]
    },
    {
      "cell_type": "code",
      "execution_count": null,
      "id": "19b76826",
      "metadata": {
        "id": "19b76826"
      },
      "outputs": [],
      "source": [
        "stop_words = stopwords.words('english')\n",
        "stemmer = SnowballStemmer('english')\n",
        "lemmatizer = WordNetLemmatizer()"
      ]
    },
    {
      "cell_type": "code",
      "execution_count": null,
      "id": "9d174276",
      "metadata": {
        "id": "9d174276"
      },
      "outputs": [],
      "source": [
        "def preprocess(text,stem=False):\n",
        "    text = text.lower()  # lowercase\n",
        "\n",
        "    text = re.sub(r'[!]+', '!', text)\n",
        "    text = re.sub(r'[?]+', '?', text)\n",
        "    text = re.sub(r'[.]+', '.', text)\n",
        "    text = re.sub(r\"'\", \"\", text)\n",
        "    text = re.sub('\\s+', ' ', text).strip()  # Remove and double spaces\n",
        "    text = re.sub(r'&amp;?', r'and', text)  # replace & -> and\n",
        "    text = re.sub(r\"https?:\\/\\/t.co\\/[A-Za-z0-9]+\", \"\", text)  # Remove URLs\n",
        "    # remove some puncts (except . ! # ?)\n",
        "    text = re.sub(r'[:\"$%&\\*+,-/:;<=>@\\\\^_`{|}~]+', '', text)\n",
        "    emoji_pattern = re.compile(\"[\"\n",
        "                               u\"\\U0001F600-\\U0001F64F\"  # emoticons\n",
        "                               u\"\\U0001F300-\\U0001F5FF\"  # symbols & pictographs\n",
        "                               u\"\\U0001F680-\\U0001F6FF\"  # transport & map symbols\n",
        "                               u\"\\U0001F1E0-\\U0001F1FF\"  # flags (iOS)\n",
        "                               u\"\\U00002702-\\U000027B0\"\n",
        "                               u\"\\U000024C2-\\U0001F251\"\n",
        "                               \"]+\", flags=re.UNICODE)\n",
        "    text = emoji_pattern.sub(r'EMOJI', text)\n",
        "    \n",
        "    tokens = []\n",
        "    for token in text.split():\n",
        "        if token not in stop_words:\n",
        "            tokens.append(lemmatizer.lemmatize(token))\n",
        "    return \" \".join(tokens)"
      ]
    },
    {
      "cell_type": "code",
      "execution_count": null,
      "id": "f5b75598",
      "metadata": {
        "id": "f5b75598"
      },
      "outputs": [],
      "source": [
        "train_df['text'] = train_df['text'].apply(lambda x: preprocess(x))\n",
        "test_df['text'] = test_df['text'].apply(lambda x: preprocess(x))"
      ]
    },
    {
      "cell_type": "markdown",
      "id": "ee2a0b32",
      "metadata": {
        "id": "ee2a0b32"
      },
      "source": [
        "# WordCloud\n",
        "* Label == 0 Real News\n",
        "* Label == 1 Fake News"
      ]
    },
    {
      "cell_type": "markdown",
      "id": "70038099",
      "metadata": {
        "id": "70038099"
      },
      "source": [
        "Commentato perchè la visualizzazione è carina ma fa perdere tempo"
      ]
    },
    {
      "cell_type": "code",
      "execution_count": null,
      "id": "7959f6fd",
      "metadata": {
        "id": "7959f6fd"
      },
      "outputs": [],
      "source": [
        "# plt.figure(figsize = (10,10))\n",
        "# wc = WordCloud(max_words = 2000, width = 1600, height = 800).generate(\" \".join(train_df[train_df.label == 0].text))\n",
        "# plt.axis('off')\n",
        "# plt.title('Real News')\n",
        "# plt.imshow(wc,interpolation = 'bilinear')"
      ]
    },
    {
      "cell_type": "code",
      "execution_count": null,
      "id": "59560f71",
      "metadata": {
        "id": "59560f71"
      },
      "outputs": [],
      "source": [
        "# plt.figure(figsize = (10,10))\n",
        "# wc = WordCloud(max_words = 2000, width = 1600, height = 800).generate(\" \".join(train_df[train_df.label == 1].text))\n",
        "# plt.axis('off')\n",
        "# plt.title('Fake News')\n",
        "# plt.imshow(wc,interpolation = 'bilinear')"
      ]
    },
    {
      "cell_type": "markdown",
      "id": "dabb070e",
      "metadata": {
        "id": "dabb070e"
      },
      "source": [
        "# Modeling\n",
        "* LSTM Modeling\n",
        "* Bert Modeling"
      ]
    },
    {
      "cell_type": "markdown",
      "id": "5f12295c",
      "metadata": {
        "id": "5f12295c"
      },
      "source": [
        "#### LSTM Modeling"
      ]
    },
    {
      "cell_type": "code",
      "execution_count": null,
      "id": "564c9b8e",
      "metadata": {
        "id": "564c9b8e"
      },
      "outputs": [],
      "source": [
        "x_train = train_df['text']\n",
        "y_train = train_df['label']"
      ]
    },
    {
      "cell_type": "code",
      "execution_count": null,
      "id": "d5535d64",
      "metadata": {
        "id": "d5535d64"
      },
      "outputs": [],
      "source": [
        "x_train, x_val, y_train, y_val = train_test_split(x_train, y_train, test_size=0.2)"
      ]
    },
    {
      "cell_type": "code",
      "execution_count": null,
      "id": "ce632e89",
      "metadata": {
        "id": "ce632e89"
      },
      "outputs": [],
      "source": [
        "tokenizer = Tokenizer()\n",
        "tokenizer.fit_on_texts(x_train) #Updates internal vocabulary based on a list of texts."
      ]
    },
    {
      "cell_type": "code",
      "execution_count": null,
      "id": "5af23235",
      "metadata": {
        "colab": {
          "base_uri": "https://localhost:8080/"
        },
        "id": "5af23235",
        "outputId": "50699401-800d-45b2-d308-205e5adbee89"
      },
      "outputs": [
        {
          "name": "stdout",
          "output_type": "stream",
          "text": [
            "Vocab size :  222555\n"
          ]
        }
      ],
      "source": [
        "word_index = tokenizer.word_index\n",
        "vocab_size = len(word_index) + 1\n",
        "print(\"Vocab size : \",vocab_size)"
      ]
    },
    {
      "cell_type": "code",
      "execution_count": null,
      "id": "01f957e3",
      "metadata": {
        "id": "01f957e3"
      },
      "outputs": [],
      "source": [
        "x_train = pad_sequences(\n",
        "    tokenizer.texts_to_sequences(x_train),\n",
        "    maxlen = 256)\n",
        "x_val = pad_sequences(\n",
        "    tokenizer.texts_to_sequences(x_val),\n",
        "    maxlen = 256)\n",
        "x_test = pad_sequences(\n",
        "    tokenizer.texts_to_sequences(test_df['text']),\n",
        "    maxlen = 256)"
      ]
    },
    {
      "cell_type": "code",
      "execution_count": null,
      "id": "b6beb09f",
      "metadata": {
        "colab": {
          "base_uri": "https://localhost:8080/"
        },
        "id": "b6beb09f",
        "outputId": "9dbc0252-5c82-4e53-c5c1-e7f576a23282"
      },
      "outputs": [
        {
          "name": "stdout",
          "output_type": "stream",
          "text": [
            "x_val shape: (4160, 256)\n",
            "y_val shape: (4160,)\n"
          ]
        }
      ],
      "source": [
        "print(\"x_val shape:\", x_val.shape)\n",
        "print(\"y_val shape:\", y_val.shape)"
      ]
    },
    {
      "cell_type": "code",
      "execution_count": null,
      "id": "74a4c61e",
      "metadata": {
        "colab": {
          "base_uri": "https://localhost:8080/"
        },
        "id": "74a4c61e",
        "outputId": "34004d02-3dab-4436-8f54-07ced0059bb0"
      },
      "outputs": [
        {
          "name": "stdout",
          "output_type": "stream",
          "text": [
            "x_train shape: (16640, 256)\n",
            "y_train shape: (16640,)\n",
            "First Train data squence info :  (256,)\n",
            "[     0      0      0      0      0      0      0      0      0      0\n",
            "      0      0      0      0      0      0      0      0      0      0\n",
            "      0      0      0      0      0      0      0      0      0      0\n",
            "      0      0      0      0      0      0      0      0      0      0\n",
            "      0      0      0      0      0      0      0      0      0      0\n",
            "      0      0      0      0      0      0   2077  20390   1443    215\n",
            "  23677   8231   2581 110797   2771   2426    222    645    155     51\n",
            "     15   1208    790    570      6   1544   4459   4459  18040   1299\n",
            "    277   4459   1567   2784   1217      8   7942   3042    391    725\n",
            "     51    860    391   8858    948    555    781    592    860   7897\n",
            "    422    202    106   2963   5109   2493     24  16696    379   4696\n",
            "  16697  16698    173   4459    350   1574     24     37   1607   4389\n",
            "    391   8858    593    227   8858   1602    928  10519   2732    166\n",
            "   1248   4459   1236   2024   3323  14887      6   3752   4389   3823\n",
            "   2055   1167     61    402    237    261    219  18448    860     21\n",
            "   1101   1105   3752   2951   1194    278   2733   1135     98   8858\n",
            "    425   3400   6837      8     24    419   4389   5923   1105      6\n",
            "   7006  14887   1274  14223      8   3015     57   1135   8858   8858\n",
            "    555    592    154     21  16330     13   1395     19     21    754\n",
            "   2881    555  24523   9209   3483     28    353  49148  24523  25393\n",
            "    502   4236    860   8605    421    122   4389    122    686    122\n",
            "  11573    122    530   1557   4553    197   4459     15    570    111\n",
            "   1258     71    131    342   2860   1316  28750    219     42    266\n",
            "   4402    250   1770   5255   1057   1608   5777   4000 110798   2780\n",
            "    421    228  55501     73  24524    245     84    515   1760 110799\n",
            "   1861   1526   4772   2732    166   1248]\n"
          ]
        }
      ],
      "source": [
        "print(\"x_train shape:\", x_train.shape)\n",
        "print(\"y_train shape:\", y_train.shape)\n",
        "print(\"First Train data squence info : \", x_train[0].shape)\n",
        "print(x_train[0])"
      ]
    },
    {
      "cell_type": "code",
      "execution_count": null,
      "id": "f6bb85bc",
      "metadata": {
        "id": "f6bb85bc",
        "outputId": "0daf21b1-b646-45e6-c3e9-f0e2a57634d2"
      },
      "outputs": [
        {
          "name": "stdout",
          "output_type": "stream",
          "text": [
            "Model: \"functional_1\"\n",
            "_________________________________________________________________\n",
            "Layer (type)                 Output Shape              Param #   \n",
            "=================================================================\n",
            "input_1 (InputLayer)         [(None, 256)]             0         \n",
            "_________________________________________________________________\n",
            "embedding (Embedding)        (None, 256, 300)          66766500  \n",
            "_________________________________________________________________\n",
            "spatial_dropout1d (SpatialDr (None, 256, 300)          0         \n",
            "_________________________________________________________________\n",
            "bidirectional (Bidirectional (None, 256)               439296    \n",
            "_________________________________________________________________\n",
            "dense (Dense)                (None, 64)                16448     \n",
            "_________________________________________________________________\n",
            "dropout (Dropout)            (None, 64)                0         \n",
            "_________________________________________________________________\n",
            "dense_1 (Dense)              (None, 1)                 65        \n",
            "=================================================================\n",
            "Total params: 67,222,309\n",
            "Trainable params: 67,222,309\n",
            "Non-trainable params: 0\n",
            "_________________________________________________________________\n"
          ]
        }
      ],
      "source": [
        "inputs = Input(shape=(256,), dtype='int32')\n",
        "\n",
        "embedding = tf.keras.layers.Embedding(vocab_size, 300)(inputs)\n",
        "net = SpatialDropout1D(0.2)(embedding)\n",
        "net = Bidirectional(LSTM(128,dropout=0.2, recurrent_dropout=0.2))(net)\n",
        "net = Dense(64,activation = 'relu')(net)\n",
        "net = Dropout(0.3)(net)\n",
        "net = Dense(1,activation = 'sigmoid')(net)\n",
        "\n",
        "outputs = net\n",
        "model = tf.keras.Model(inputs,outputs)\n",
        "model.summary()"
      ]
    },
    {
      "cell_type": "code",
      "execution_count": null,
      "id": "f3d9f95c",
      "metadata": {
        "id": "f3d9f95c"
      },
      "outputs": [],
      "source": [
        "model.compile(optimizer = tf.keras.optimizers.Adam(),\n",
        "             loss = 'binary_crossentropy',\n",
        "             metrics = ['accuracy'])"
      ]
    },
    {
      "cell_type": "code",
      "execution_count": null,
      "id": "abadb1b1",
      "metadata": {
        "colab": {
          "base_uri": "https://localhost:8080/"
        },
        "id": "abadb1b1",
        "outputId": "71f9fb73-ef54-4a4c-e5bd-c8843ab35ffa"
      },
      "outputs": [
        {
          "name": "stdout",
          "output_type": "stream",
          "text": [
            "Epoch 1/3\n",
            "33/33 [==============================] - 1871s 57s/step - loss: 0.4053 - accuracy: 0.7957 - val_loss: 0.1243 - val_accuracy: 0.9498\n",
            "Epoch 2/3\n",
            "33/33 [==============================] - 1240s 38s/step - loss: 0.0680 - accuracy: 0.9778 - val_loss: 0.1069 - val_accuracy: 0.9671\n",
            "Epoch 3/3\n",
            "33/33 [==============================] - 1502s 46s/step - loss: 0.0134 - accuracy: 0.9965 - val_loss: 0.1288 - val_accuracy: 0.9688\n"
          ]
        }
      ],
      "source": [
        "history = model.fit(\n",
        "    x_train,\n",
        "    y_train,\n",
        "    batch_size=512, \n",
        "    epochs=3,\n",
        "    validation_data=(x_val, y_val)\n",
        ")"
      ]
    },
    {
      "cell_type": "code",
      "execution_count": null,
      "id": "c2312051",
      "metadata": {
        "scrolled": false,
        "id": "c2312051",
        "outputId": "0a2a9715-2962-41e1-c397-450a581e7cc3"
      },
      "outputs": [
        {
          "name": "stdout",
          "output_type": "stream",
          "text": [
            "130/130 [==============================] - 24s 184ms/step - loss: 0.1288 - accuracy: 0.9688\n"
          ]
        },
        {
          "data": {
            "text/plain": [
              "[0.12883391976356506, 0.96875]"
            ]
          },
          "execution_count": 42,
          "metadata": {},
          "output_type": "execute_result"
        }
      ],
      "source": [
        "model.evaluate(x=x_val, y=y_val)"
      ]
    },
    {
      "cell_type": "code",
      "execution_count": null,
      "id": "6df2cd5a",
      "metadata": {
        "scrolled": true,
        "id": "6df2cd5a",
        "outputId": "cd23040f-371d-42d2-eb2b-82bacdc593d0"
      },
      "outputs": [
        {
          "data": {
            "image/png": "[encoded data removed]",
            "text/plain": [
              "<Figure size 1440x1080 with 2 Axes>"
            ]
          },
          "metadata": {
            "needs_background": "light"
          },
          "output_type": "display_data"
        }
      ],
      "source": [
        "f,ax = plt.subplots(2,1,figsize=(20,15))\n",
        "\n",
        "ax[0].plot(history.history['accuracy'])\n",
        "ax[0].plot(history.history['val_accuracy'])\n",
        "ax[0].set_title('Model Accuracy')\n",
        "ax[0].set_ylabel('Accuracy')\n",
        "ax[0].set_xlabel('Epochs')\n",
        "ax[0].legend(['LSTM_train', 'LSTM_val'], loc='upper left')\n",
        "\n",
        "\n",
        "ax[1].plot(history.history['loss'])\n",
        "ax[1].plot(history.history['val_loss'])\n",
        "ax[1].set_title('Model Loss')\n",
        "ax[1].set_ylabel('Loss')\n",
        "ax[1].set_xlabel('Epochs')\n",
        "ax[1].legend(['train', 'val'], loc = 'upper left')\n",
        "\n",
        "f.tight_layout()\n",
        "plt.show()"
      ]
    },
    {
      "cell_type": "markdown",
      "id": "0b29e78f",
      "metadata": {
        "id": "0b29e78f"
      },
      "source": [
        "Tentativi di salvare e caricare modello per non riaddestrare ogni volta con model.fit()"
      ]
    },
    {
      "cell_type": "code",
      "execution_count": null,
      "id": "c3184996",
      "metadata": {
        "id": "c3184996"
      },
      "outputs": [],
      "source": [
        "model.save(\"models/LSTM-FN20K.h5\")"
      ]
    },
    {
      "cell_type": "code",
      "execution_count": null,
      "id": "d8b57986",
      "metadata": {
        "id": "d8b57986"
      },
      "outputs": [],
      "source": [
        "# from tensorflow.keras.models import load_model\n",
        "# loaded_model = load_model(\"models/LSTM-FN20K.h5\")"
      ]
    },
    {
      "cell_type": "code",
      "execution_count": null,
      "id": "e34734b4",
      "metadata": {
        "scrolled": true,
        "id": "e34734b4"
      },
      "outputs": [],
      "source": [
        "# loaded_model.evaluate(x=x_val, y=y_val)\n",
        "\n",
        "# errore sulla grandezza del vocabolario che mi costringe a riaddestrare ogni volta\n",
        "# InvalidArgumentError:  indices[18,159] = 226603 is not in [0, 226126)\n",
        "# \t [[node model/embedding/embedding_lookup (defined at \\AppData\\Local\\Temp/ipykernel_14484/199168757.py:1) ]] [Op:__inference_test_function_1502]\n",
        "\n",
        "# Errors may have originated from an input operation.\n",
        "# Input Source operations connected to node model/embedding/embedding_lookup:\n",
        "#  model/embedding/embedding_lookup/928 (defined at \\anaconda3\\envs\\testenv\\lib\\contextlib.py:119)"
      ]
    },
    {
      "cell_type": "code",
      "execution_count": null,
      "id": "5911d1b7",
      "metadata": {
        "id": "5911d1b7"
      },
      "outputs": [],
      "source": [
        ""
      ]
    }
  ],
  "metadata": {
    "kernelspec": {
      "display_name": "Python 3 (ipykernel)",
      "language": "python",
      "name": "python3"
    },
    "language_info": {
      "codemirror_mode": {
        "name": "ipython",
        "version": 3
      },
      "file_extension": ".py",
      "mimetype": "text/x-python",
      "name": "python",
      "nbconvert_exporter": "python",
      "pygments_lexer": "ipython3",
      "version": "3.8.12"
    },
    "colab": {
      "name": "LSTM_Kaggle FN.ipynb",
      "provenance": [],
      "include_colab_link": true
    }
  },
  "nbformat": 4,
  "nbformat_minor": 5
}